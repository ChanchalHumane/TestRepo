{
  "metadata": {
    "kernelspec": {
      "name": "python",
      "display_name": "Python (Pyodide)",
      "language": "python"
    },
    "language_info": {
      "codemirror_mode": {
        "name": "python",
        "version": 3
      },
      "file_extension": ".py",
      "mimetype": "text/x-python",
      "name": "python",
      "nbconvert_exporter": "python",
      "pygments_lexer": "ipython3",
      "version": "3.8"
    }
  },
  "nbformat_minor": 4,
  "nbformat": 4,
  "cells": [
    {
      "cell_type": "markdown",
      "source": "# Data Science Tools and Ecosystem",
      "metadata": {}
    },
    {
      "cell_type": "markdown",
      "source": "#Introduction:\nIn this notebook, Data Science Tools and Ecosystem are summarized.",
      "metadata": {}
    },
    {
      "cell_type": "markdown",
      "source": "Some of the popular languages that Data Scientists use are\n1. R-studio \n2. SQL\n3. Java\n4. Java-Script",
      "metadata": {}
    },
    {
      "cell_type": "markdown",
      "source": "Some of the commonly used libraries used by Data Scientists include:\n1. Sckit-Learn\n2. Pandas\n3. Tensor Flow\n4. Numpy",
      "metadata": {}
    },
    {
      "cell_type": "markdown",
      "source": "| Data Science Tools |\n| ------------------ |\n| Jupter Notebook    |\n| R-Studio           |\n| VS Code            |",
      "metadata": {
        "jp-MarkdownHeadingCollapsed": true
      }
    },
    {
      "cell_type": "markdown",
      "source": "### Below are a few examples of evaluating arithmetic expressions in Python",
      "metadata": {}
    },
    {
      "cell_type": "code",
      "source": "#This a simple arithmetic expression to mutiply then add integers\nresult = (3*4)+5\nprint(\"The result is:\", result)",
      "metadata": {
        "trusted": true
      },
      "outputs": [
        {
          "name": "stdout",
          "text": "The result is: 17\n",
          "output_type": "stream"
        }
      ],
      "execution_count": 9
    },
    {
      "cell_type": "code",
      "source": "#This will convert 200 minutes to hours by diving by 60\nminutes = 200\n\n# Calculate hours using integer division\nhours = minutes // 60\n# Calculate remaining minutes using the modulo operator\nremaining_minutes = minutes % 60\n\nprint(f\"{minutes} minutes is equal to {hours} hours and {remaining_minutes} minutes.\")",
      "metadata": {
        "trusted": true
      },
      "outputs": [
        {
          "name": "stdout",
          "text": "200 minutes is equal to 3 hours and 20 minutes.\n",
          "output_type": "stream"
        }
      ],
      "execution_count": 8
    },
    {
      "cell_type": "markdown",
      "source": "# **Objectives:**\n\n*   Identify popular programming languages commonly used in Data Science, such as Python and R.\n*   Understand the key characteristics and applications of various data science tools, including integrated development environments (IDEs) and cloud-based platforms.\n*   Learn about different types of data and their appropriate handling methods within a data science workflow.\n*   Explore the fundamental concepts of data analysis and visualization using relevant libraries and techniques.\n*   Gain an introductory understanding of machine learning concepts and their role in data-driven decision making.",
      "metadata": {}
    },
    {
      "cell_type": "markdown",
      "source": "## Author:\nMr. Chanchal Prakash Humane",
      "metadata": {}
    }
  ]
}